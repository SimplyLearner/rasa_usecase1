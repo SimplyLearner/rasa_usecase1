{
 "cells": [
  {
   "cell_type": "code",
   "execution_count": 1,
   "id": "3488b9a4",
   "metadata": {},
   "outputs": [],
   "source": [
    "import requests\n",
    "import json"
   ]
  },
  {
   "cell_type": "code",
   "execution_count": null,
   "id": "1a28431b",
   "metadata": {},
   "outputs": [],
   "source": [
    "url = 'https://api.nytimes.com/svc/news/v3/content/all/{category}.json'.format(category=\"fashion\")\n",
    "params = {'api-key': \"2hq54bvFO0yWiRdY70reBU2GmusBtnwM\", 'limit': 5}\n",
    "response = requests.get(url,params).text\n",
    "json_data = json.loads(response)[\"results\"]"
   ]
  }
 ],
 "metadata": {
  "kernelspec": {
   "display_name": "Python 3 (ipykernel)",
   "language": "python",
   "name": "python3"
  },
  "language_info": {
   "codemirror_mode": {
    "name": "ipython",
    "version": 3
   },
   "file_extension": ".py",
   "mimetype": "text/x-python",
   "name": "python",
   "nbconvert_exporter": "python",
   "pygments_lexer": "ipython3",
   "version": "3.9.7"
  }
 },
 "nbformat": 4,
 "nbformat_minor": 5
}
